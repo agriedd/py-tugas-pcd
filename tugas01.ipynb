{
 "cells": [
  {
   "cell_type": "code",
   "execution_count": 145,
   "metadata": {},
   "outputs": [
    {
     "data": {
      "image/png": "[encoded data removed]",
      "text/plain": [
       "<Figure size 432x288 with 1 Axes>"
      ]
     },
     "metadata": {
      "needs_background": "light"
     },
     "output_type": "display_data"
    }
   ],
   "source": [
    "\"\"\"\n",
    "create generate image from matrix\n",
    "\"\"\"\n",
    "import numpy as np\n",
    "import matplotlib.pyplot as plt\n",
    "import matplotlib.image as mpimg\n",
    "\n",
    "# create np matrix image\n",
    "def create_image(matrix):\n",
    "\t\"\"\"\n",
    "\tcreate image from matrix\n",
    "\t\"\"\"\n",
    "\t# create image\n",
    "\tplt.imshow(matrix, vmin=0, vmax=255)\n",
    "\t# show image\n",
    "\tplt.show()\n",
    "def create_gray_image(matrix):\n",
    "\t\"\"\"\n",
    "\tcreate gray image from matrix\n",
    "\t\"\"\"\n",
    "\t# create image\n",
    "\tplt.imshow(matrix, cmap='gray', vmin=0, vmax=255)\n",
    "\t# show image\n",
    "\tplt.show()\n",
    "\n",
    "matrix = [\n",
    "\t\t[\n",
    "\t\t\t[80, 70, 65],\n",
    "\t\t\t[85, 85, 90],\n",
    "\t\t\t[30, 25, 100],\n",
    "\t\t\t[200, 185, 50],\n",
    "\t\t],\n",
    "\t\t[\n",
    "\t\t\t[90, 100, 120],\n",
    "\t\t\t[60, 60, 30],\n",
    "\t\t\t[50, 50, 90],\n",
    "\t\t\t[50, 70, 90],\n",
    "\t\t],\n",
    "\t\t[\n",
    "\t\t\t[85, 10, 20],\n",
    "\t\t\t[100, 100, 35],\n",
    "\t\t\t[200, 205, 210],\n",
    "\t\t\t[205, 120, 65],\n",
    "\t\t],\n",
    "\t\t[\n",
    "\t\t\t[30, 75, 90],\n",
    "\t\t\t[235, 245, 220],\n",
    "\t\t\t[120, 120, 140],\n",
    "\t\t\t[35, 95, 120],\n",
    "\t\t],\n",
    "\t]\n",
    "create_image(np.array(matrix))\n",
    "# mpimg.imsave('image.png', )"
   ]
  },
  {
   "cell_type": "markdown",
   "metadata": {},
   "source": [
    "# 1. Konversi Ke Grayscale\n",
    "\n",
    "Membuat grayscale dengan merata-ratakan setiap warna piksel"
   ]
  },
  {
   "cell_type": "code",
   "execution_count": 74,
   "metadata": {},
   "outputs": [
    {
     "data": {
      "text/html": [
       "<div>\n",
       "<style scoped>\n",
       "    .dataframe tbody tr th:only-of-type {\n",
       "        vertical-align: middle;\n",
       "    }\n",
       "\n",
       "    .dataframe tbody tr th {\n",
       "        vertical-align: top;\n",
       "    }\n",
       "\n",
       "    .dataframe thead th {\n",
       "        text-align: right;\n",
       "    }\n",
       "</style>\n",
       "<table border=\"1\" class=\"dataframe\">\n",
       "  <thead>\n",
       "    <tr style=\"text-align: right;\">\n",
       "      <th></th>\n",
       "      <th>red</th>\n",
       "      <th>green</th>\n",
       "      <th>blue</th>\n",
       "    </tr>\n",
       "  </thead>\n",
       "  <tbody>\n",
       "    <tr>\n",
       "      <th>0</th>\n",
       "      <td>80</td>\n",
       "      <td>70</td>\n",
       "      <td>65</td>\n",
       "    </tr>\n",
       "    <tr>\n",
       "      <th>1</th>\n",
       "      <td>85</td>\n",
       "      <td>85</td>\n",
       "      <td>90</td>\n",
       "    </tr>\n",
       "    <tr>\n",
       "      <th>2</th>\n",
       "      <td>30</td>\n",
       "      <td>25</td>\n",
       "      <td>100</td>\n",
       "    </tr>\n",
       "    <tr>\n",
       "      <th>3</th>\n",
       "      <td>200</td>\n",
       "      <td>185</td>\n",
       "      <td>50</td>\n",
       "    </tr>\n",
       "  </tbody>\n",
       "</table>\n",
       "</div>"
      ],
      "text/plain": [
       "   red  green  blue\n",
       "0   80     70    65\n",
       "1   85     85    90\n",
       "2   30     25   100\n",
       "3  200    185    50"
      ]
     },
     "execution_count": 74,
     "metadata": {},
     "output_type": "execute_result"
    }
   ],
   "source": [
    "np_matrix = np.array(matrix)\n",
    "# create empty matrix same as np matrix\n",
    "np_matrix_gray = np.array([[[0] * 1 ] * len(np_matrix[0])] * len(np_matrix))\n",
    "\n",
    "# import panda\n",
    "import pandas as pd\n",
    "\n",
    "# show matrix as pandas dataframe\n",
    "pd.DataFrame(np_matrix[0], columns=['red', 'green', 'blue'])\n",
    "\n",
    "\n",
    "# create_image(np_matrix_gray)"
   ]
  },
  {
   "cell_type": "code",
   "execution_count": 79,
   "metadata": {},
   "outputs": [
    {
     "name": "stdout",
     "output_type": "stream",
     "text": [
      "4\n",
      "[[[ 80  70  65]\n",
      "  [ 85  85  90]\n",
      "  [ 30  25 100]\n",
      "  [200 185  50]]\n",
      "\n",
      " [[ 90 100 120]\n",
      "  [ 60  60  30]\n",
      "  [ 50  50  90]\n",
      "  [ 50  70  90]]\n",
      "\n",
      " [[ 85  10  20]\n",
      "  [100 100  35]\n",
      "  [200 205 210]\n",
      "  [205 120  65]]\n",
      "\n",
      " [[ 30  75  90]\n",
      "  [235 245 220]\n",
      "  [120 120 140]\n",
      "  [ 35  95 120]]]\n",
      "[[[ 71]\n",
      "  [ 86]\n",
      "  [ 51]\n",
      "  [145]]\n",
      "\n",
      " [[103]\n",
      "  [ 50]\n",
      "  [ 63]\n",
      "  [ 70]]\n",
      "\n",
      " [[ 38]\n",
      "  [ 78]\n",
      "  [205]\n",
      "  [130]]\n",
      "\n",
      " [[ 65]\n",
      "  [233]\n",
      "  [126]\n",
      "  [ 83]]]\n"
     ]
    }
   ],
   "source": [
    "print(len(np_matrix))\n",
    "print(np_matrix)\n",
    "print(np_matrix_gray)\n"
   ]
  },
  {
   "cell_type": "code",
   "execution_count": 147,
   "metadata": {},
   "outputs": [
    {
     "data": {
      "text/plain": [
       "<matplotlib.image.AxesImage at 0x7f1fb0193910>"
      ]
     },
     "execution_count": 147,
     "metadata": {},
     "output_type": "execute_result"
    },
    {
     "data": {
      "image/png": "[encoded data removed]",
      "text/plain": [
       "<Figure size 432x288 with 2 Axes>"
      ]
     },
     "metadata": {
      "needs_background": "light"
     },
     "output_type": "display_data"
    }
   ],
   "source": [
    "for i in range(len(np_matrix)):\n",
    "\tfor j in range(len(np_matrix[i])):\n",
    "\t\tavg = 0\n",
    "\t\tfor k in range(len(np_matrix[i][j])):\n",
    "\t\t\tavg += np_matrix[i][j][k]\n",
    "\t\tavg /= len(np_matrix[i][j])\n",
    "\t\tnp_matrix_gray[i][j][0] = avg\n",
    "f, axarr = plt.subplots(1, 2)\n",
    "axarr[0].imshow(np_matrix, vmin = 0, vmax = 255, interpolation='none')\n",
    "axarr[1].imshow(np_matrix_gray, cmap='gray', vmin = 0, vmax = 255,interpolation='none')\n"
   ]
  },
  {
   "cell_type": "markdown",
   "metadata": {},
   "source": [
    "# 2. Konversi ke Binary\n",
    "\n",
    "membagi grayscale menjadi 2 jenis, yaitu 0 dan 1\n",
    "grayscale yang lebih dari 0.5 akan diubah menjadi 1\n",
    "grayscale yang lebih kecil atau sama dengan 0.5 akan diubah menjadi 0\n",
    "0-255 => 265/2 = 130"
   ]
  },
  {
   "cell_type": "code",
   "execution_count": 148,
   "metadata": {},
   "outputs": [
    {
     "data": {
      "text/plain": [
       "<matplotlib.image.AxesImage at 0x7f1fb00c6cd0>"
      ]
     },
     "execution_count": 148,
     "metadata": {},
     "output_type": "execute_result"
    },
    {
     "data": {
      "image/png": "[encoded data removed]",
      "text/plain": [
       "<Figure size 432x288 with 2 Axes>"
      ]
     },
     "metadata": {
      "needs_background": "light"
     },
     "output_type": "display_data"
    }
   ],
   "source": [
    "# create binary grayscale image from np_matrix_gray\n",
    "np_matrix_binary_gray = np.array([[[0] * 1 ] * len(np_matrix[0])] * len(np_matrix))\n",
    "for i in range(len(np_matrix)):\n",
    "\tfor j in range(len(np_matrix[i])):\n",
    "\t\tif np_matrix_gray[i][j][0] > 256/2:\n",
    "\t\t\tnp_matrix_binary_gray[i][j][0] = 1\n",
    "\t\telse:\n",
    "\t\t\tnp_matrix_binary_gray[i][j][0] = 0\n",
    "f, axarr = plt.subplots(1, 2)\n",
    "axarr[0].imshow(np_matrix, vmin = 0, vmax = 1,interpolation='none')\n",
    "axarr[1].imshow(np_matrix_binary_gray, cmap='gray', vmin = 0, vmax = 1,interpolation='none')"
   ]
  },
  {
   "cell_type": "markdown",
   "metadata": {},
   "source": [
    "# 3. Dari citra grayscale yang telah diperoleh buatlah citra nya menjadi lebih terang dengan tingkat kecerahan : nilai b atau k = 30\n",
    "\n",
    "mengurangi nilai grayscale dengan 30"
   ]
  },
  {
   "cell_type": "code",
   "execution_count": 132,
   "metadata": {},
   "outputs": [
    {
     "data": {
      "text/plain": [
       "<matplotlib.image.AxesImage at 0x7f1fb2b27f70>"
      ]
     },
     "execution_count": 132,
     "metadata": {},
     "output_type": "execute_result"
    },
    {
     "data": {
      "image/png": "[encoded data removed]",
      "text/plain": [
       "<Figure size 432x288 with 2 Axes>"
      ]
     },
     "metadata": {
      "needs_background": "light"
     },
     "output_type": "display_data"
    }
   ],
   "source": [
    "np_matrix_gray_light = np.array([[[0] * 1 ] * len(np_matrix[0])] * len(np_matrix))\n",
    "for i in range(len(np_matrix)):\n",
    "\tfor j in range(len(np_matrix[i])):\n",
    "\t\tval = np_matrix_gray[i][j][0] + 30\n",
    "\t\tif(val >= 255):\n",
    "\t\t\tnp_matrix_gray_light[i][j][0] = 255\n",
    "\t\telse:\n",
    "\t\t\tnp_matrix_gray_light[i][j][0] = val\n",
    "f, axarr = plt.subplots(1, 2)\n",
    "axarr[0].imshow(np_matrix_gray, cmap='gray', vmin = 0, vmax = 255,interpolation='none')\n",
    "axarr[1].imshow(np_matrix_gray_light, cmap='gray', vmin = 0, vmax = 255,interpolation='none')"
   ]
  },
  {
   "cell_type": "markdown",
   "metadata": {},
   "source": [
    "# 4. Dari citra grayscale yang telah diperoleh buatlah citra nya menjadi lebih gelap dengan tingkat kecerahan : nilai b atau k = -20"
   ]
  },
  {
   "cell_type": "code",
   "execution_count": 149,
   "metadata": {},
   "outputs": [
    {
     "data": {
      "text/plain": [
       "<matplotlib.image.AxesImage at 0x7f1faffb9e20>"
      ]
     },
     "execution_count": 149,
     "metadata": {},
     "output_type": "execute_result"
    },
    {
     "data": {
      "image/png": "[encoded data removed]",
      "text/plain": [
       "<Figure size 432x288 with 3 Axes>"
      ]
     },
     "metadata": {
      "needs_background": "light"
     },
     "output_type": "display_data"
    }
   ],
   "source": [
    "np_matrix_gray_darken = np.array([[[0] * 1 ] * len(np_matrix[0])] * len(np_matrix))\n",
    "for i in range(len(np_matrix)):\n",
    "\tfor j in range(len(np_matrix[i])):\n",
    "\t\tval = np_matrix_gray[i][j][0] - 20\n",
    "\t\tif(val <= 0):\n",
    "\t\t\tnp_matrix_gray_darken[i][j][0] = 0\n",
    "\t\telse:\n",
    "\t\t\tnp_matrix_gray_darken[i][j][0] = val\n",
    "f, axarr = plt.subplots(1, 3)\n",
    "axarr[0].imshow(np_matrix_gray, cmap='gray', vmin = 0, vmax = 255,interpolation='none')\n",
    "axarr[1].imshow(np_matrix_gray_darken, cmap='gray', vmin = 0, vmax = 255,interpolation='none')\n",
    "axarr[2].imshow(np_matrix_gray_light, cmap='gray', vmin = 0, vmax = 255,interpolation='none')\n"
   ]
  }
 ],
 "metadata": {
  "interpreter": {
   "hash": "916dbcbb3f70747c44a77c7bcd40155683ae19c65e1c03b4aa3499c5328201f1"
  },
  "kernelspec": {
   "display_name": "Python 3.8.10 64-bit",
   "language": "python",
   "name": "python3"
  },
  "language_info": {
   "codemirror_mode": {
    "name": "ipython",
    "version": 3
   },
   "file_extension": ".py",
   "mimetype": "text/x-python",
   "name": "python",
   "nbconvert_exporter": "python",
   "pygments_lexer": "ipython3",
   "version": "3.8.10"
  },
  "orig_nbformat": 4
 },
 "nbformat": 4,
 "nbformat_minor": 2
}
